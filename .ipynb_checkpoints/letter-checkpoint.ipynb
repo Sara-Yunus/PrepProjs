{
 "cells": [
  {
   "cell_type": "code",
   "execution_count": 1,
   "id": "8430628f",
   "metadata": {},
   "outputs": [],
   "source": [
    "from scipy.io import arff\n",
    "import pandas as pd"
   ]
  },
  {
   "cell_type": "code",
   "execution_count": 2,
   "id": "52cbb727",
   "metadata": {},
   "outputs": [
    {
     "ename": "FileNotFoundError",
     "evalue": "[Errno 2] No such file or directory: 'E:\\\\clustering-benchmark-master\\\\clustering-benchmark-master\\\\src\\\\main\\\\resources\\\\datasets\\\\real-world\\\\letter.arff'",
     "output_type": "error",
     "traceback": [
      "\u001b[1;31m---------------------------------------------------------------------------\u001b[0m",
      "\u001b[1;31mFileNotFoundError\u001b[0m                         Traceback (most recent call last)",
      "Cell \u001b[1;32mIn[2], line 1\u001b[0m\n\u001b[1;32m----> 1\u001b[0m data \u001b[38;5;241m=\u001b[39m \u001b[43marff\u001b[49m\u001b[38;5;241;43m.\u001b[39;49m\u001b[43mloadarff\u001b[49m\u001b[43m(\u001b[49m\u001b[38;5;124;43mr\u001b[39;49m\u001b[38;5;124;43m\"\u001b[39;49m\u001b[38;5;124;43mE:\u001b[39;49m\u001b[38;5;124;43m\\\u001b[39;49m\u001b[38;5;124;43mclustering-benchmark-master\u001b[39;49m\u001b[38;5;124;43m\\\u001b[39;49m\u001b[38;5;124;43mclustering-benchmark-master\u001b[39;49m\u001b[38;5;124;43m\\\u001b[39;49m\u001b[38;5;124;43msrc\u001b[39;49m\u001b[38;5;124;43m\\\u001b[39;49m\u001b[38;5;124;43mmain\u001b[39;49m\u001b[38;5;124;43m\\\u001b[39;49m\u001b[38;5;124;43mresources\u001b[39;49m\u001b[38;5;124;43m\\\u001b[39;49m\u001b[38;5;124;43mdatasets\u001b[39;49m\u001b[38;5;124;43m\\\u001b[39;49m\u001b[38;5;124;43mreal-world\u001b[39;49m\u001b[38;5;124;43m\\\u001b[39;49m\u001b[38;5;124;43mletter.arff\u001b[39;49m\u001b[38;5;124;43m\"\u001b[39;49m\u001b[43m)\u001b[49m\n",
      "File \u001b[1;32m~\\anaconda3\\lib\\site-packages\\scipy\\io\\arff\\_arffread.py:800\u001b[0m, in \u001b[0;36mloadarff\u001b[1;34m(f)\u001b[0m\n\u001b[0;32m    798\u001b[0m     ofile \u001b[38;5;241m=\u001b[39m f\n\u001b[0;32m    799\u001b[0m \u001b[38;5;28;01melse\u001b[39;00m:\n\u001b[1;32m--> 800\u001b[0m     ofile \u001b[38;5;241m=\u001b[39m \u001b[38;5;28;43mopen\u001b[39;49m\u001b[43m(\u001b[49m\u001b[43mf\u001b[49m\u001b[43m,\u001b[49m\u001b[43m \u001b[49m\u001b[38;5;124;43m'\u001b[39;49m\u001b[38;5;124;43mrt\u001b[39;49m\u001b[38;5;124;43m'\u001b[39;49m\u001b[43m)\u001b[49m\n\u001b[0;32m    801\u001b[0m \u001b[38;5;28;01mtry\u001b[39;00m:\n\u001b[0;32m    802\u001b[0m     \u001b[38;5;28;01mreturn\u001b[39;00m _loadarff(ofile)\n",
      "\u001b[1;31mFileNotFoundError\u001b[0m: [Errno 2] No such file or directory: 'E:\\\\clustering-benchmark-master\\\\clustering-benchmark-master\\\\src\\\\main\\\\resources\\\\datasets\\\\real-world\\\\letter.arff'"
     ]
    }
   ],
   "source": [
    "data = arff.loadarff(r\"E:\\clustering-benchmark-master\\clustering-benchmark-master\\src\\main\\resources\\datasets\\real-world\\letter.arff\")\n",
    "                 "
   ]
  },
  {
   "cell_type": "code",
   "execution_count": null,
   "id": "1c697044",
   "metadata": {},
   "outputs": [],
   "source": [
    "df = pd.DataFrame(data[0])\n",
    "df.head()"
   ]
  },
  {
   "cell_type": "code",
   "execution_count": null,
   "id": "6d880097",
   "metadata": {
    "scrolled": true
   },
   "outputs": [],
   "source": [
    "df.shape"
   ]
  },
  {
   "cell_type": "code",
   "execution_count": null,
   "id": "e0fb15bd",
   "metadata": {
    "scrolled": true
   },
   "outputs": [],
   "source": [
    "type((df['class']==\"b'Z'\").values)"
   ]
  },
  {
   "cell_type": "code",
   "execution_count": null,
   "id": "04ca3e3e",
   "metadata": {},
   "outputs": [],
   "source": [
    "df.to_csv('letter.csv', index = False)"
   ]
  },
  {
   "cell_type": "code",
   "execution_count": null,
   "id": "a99f9775",
   "metadata": {},
   "outputs": [],
   "source": [
    "df1 = pd.read_csv('letter.csv')\n",
    "df1"
   ]
  },
  {
   "cell_type": "code",
   "execution_count": null,
   "id": "5d519dca",
   "metadata": {},
   "outputs": [],
   "source": [
    "# from sklearn.preprocessing import MultiLabelBinarizer"
   ]
  },
  {
   "cell_type": "code",
   "execution_count": null,
   "id": "fb0ac265",
   "metadata": {},
   "outputs": [],
   "source": [
    "# df['class'] = MultiLabelBinarizer().fit_transform(df['class'])\n"
   ]
  },
  {
   "cell_type": "code",
   "execution_count": null,
   "id": "aed76a81",
   "metadata": {},
   "outputs": [],
   "source": [
    "df1['corrected_class'] = df1['class'].apply(lambda x : x.split(\"'\")[1])\n",
    "df1"
   ]
  },
  {
   "cell_type": "code",
   "execution_count": null,
   "id": "482b4609",
   "metadata": {},
   "outputs": [],
   "source": [
    "input_set = df1.drop(['class', 'corrected_class'], axis = 'columns')\n",
    "input_set"
   ]
  },
  {
   "cell_type": "code",
   "execution_count": null,
   "id": "45a51a4f",
   "metadata": {},
   "outputs": [],
   "source": [
    "target_set = df['class']\n",
    "target_set"
   ]
  },
  {
   "cell_type": "code",
   "execution_count": null,
   "id": "acfd7f6c",
   "metadata": {},
   "outputs": [],
   "source": [
    "from sklearn.model_selection import train_test_split\n"
   ]
  },
  {
   "cell_type": "code",
   "execution_count": null,
   "id": "e9a1fd57",
   "metadata": {},
   "outputs": [],
   "source": [
    "X,x,Y,y = train_test_split(input_set, target_set, test_size=0.25)"
   ]
  },
  {
   "cell_type": "code",
   "execution_count": null,
   "id": "01e6c5f9",
   "metadata": {},
   "outputs": [],
   "source": [
    "from sklearn.linear_model import LogisticRegression"
   ]
  },
  {
   "cell_type": "code",
   "execution_count": null,
   "id": "d6ae90c8",
   "metadata": {},
   "outputs": [],
   "source": [
    "model = LogisticRegression()"
   ]
  },
  {
   "cell_type": "code",
   "execution_count": null,
   "id": "926690e3",
   "metadata": {},
   "outputs": [],
   "source": [
    "model.fit(X,Y)"
   ]
  },
  {
   "cell_type": "code",
   "execution_count": null,
   "id": "e3f5df7f",
   "metadata": {},
   "outputs": [],
   "source": [
    "from sklearn.preprocessing import MultiLabelBinarizer"
   ]
  },
  {
   "cell_type": "code",
   "execution_count": null,
   "id": "68322e69",
   "metadata": {},
   "outputs": [],
   "source": [
    "Y_corrected = MultiLabelBinarizer().fit_transform(Y)\n",
    "Y_corrected.shape"
   ]
  },
  {
   "cell_type": "code",
   "execution_count": null,
   "id": "4044dbad",
   "metadata": {},
   "outputs": [],
   "source": [
    "df1 = pd.DataFrame(Y_corrected)\n",
    "df1"
   ]
  },
  {
   "cell_type": "code",
   "execution_count": null,
   "id": "3a677458",
   "metadata": {},
   "outputs": [],
   "source": [
    "model.fit(X,df1)"
   ]
  },
  {
   "cell_type": "code",
   "execution_count": null,
   "id": "8f3b7748",
   "metadata": {},
   "outputs": [],
   "source": []
  }
 ],
 "metadata": {
  "kernelspec": {
   "display_name": "Python 3 (ipykernel)",
   "language": "python",
   "name": "python3"
  },
  "language_info": {
   "codemirror_mode": {
    "name": "ipython",
    "version": 3
   },
   "file_extension": ".py",
   "mimetype": "text/x-python",
   "name": "python",
   "nbconvert_exporter": "python",
   "pygments_lexer": "ipython3",
   "version": "3.10.9"
  }
 },
 "nbformat": 4,
 "nbformat_minor": 5
}
